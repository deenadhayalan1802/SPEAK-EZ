{
 "cells": [
  {
   "cell_type": "code",
   "execution_count": 2,
   "id": "45a8e000-9987-4244-8b72-0ac5ef8b5974",
   "metadata": {},
   "outputs": [
    {
     "name": "stdout",
     "output_type": "stream",
     "text": [
      "Requirement already satisfied: SpeechRecognition in c:\\users\\admin\\appdata\\local\\programs\\python\\python310\\lib\\site-packages (3.14.2)\n",
      "Requirement already satisfied: pyttsx3 in c:\\users\\admin\\appdata\\local\\programs\\python\\python310\\lib\\site-packages (2.98)\n",
      "Requirement already satisfied: pyaudio in c:\\users\\admin\\appdata\\local\\programs\\python\\python310\\lib\\site-packages (0.2.14)\n",
      "Requirement already satisfied: typing-extensions in c:\\users\\admin\\appdata\\local\\programs\\python\\python310\\lib\\site-packages (from SpeechRecognition) (4.13.2)\n",
      "Requirement already satisfied: comtypes in c:\\users\\admin\\appdata\\local\\programs\\python\\python310\\lib\\site-packages (from pyttsx3) (1.4.10)\n",
      "Requirement already satisfied: pypiwin32 in c:\\users\\admin\\appdata\\local\\programs\\python\\python310\\lib\\site-packages (from pyttsx3) (223)\n",
      "Requirement already satisfied: pywin32 in c:\\users\\admin\\appdata\\local\\programs\\python\\python310\\lib\\site-packages (from pyttsx3) (310)\n",
      "Note: you may need to restart the kernel to use updated packages.\n"
     ]
    }
   ],
   "source": [
    "pip install SpeechRecognition pyttsx3 pyaudio\n"
   ]
  },
  {
   "cell_type": "code",
   "execution_count": 3,
   "id": "6b06aa17-cb45-426f-8de5-f4e6c18d2d75",
   "metadata": {},
   "outputs": [
    {
     "name": "stdout",
     "output_type": "stream",
     "text": [
      "Requirement already satisfied: pyaudio in c:\\users\\admin\\appdata\\local\\programs\\python\\python310\\lib\\site-packages (0.2.14)Note: you may need to restart the kernel to use updated packages.\n",
      "\n"
     ]
    }
   ],
   "source": [
    "pip install pyaudio\n"
   ]
  },
  {
   "cell_type": "code",
   "execution_count": 4,
   "id": "b3c52030-db8a-4ce4-b0f3-aae9bc9a8603",
   "metadata": {},
   "outputs": [
    {
     "name": "stdout",
     "output_type": "stream",
     "text": [
      "Note: you may need to restart the kernel to use updated packages.\n"
     ]
    },
    {
     "name": "stderr",
     "output_type": "stream",
     "text": [
      "ERROR: Could not find a version that satisfies the requirement webbrowser (from versions: none)\n",
      "ERROR: No matching distribution found for webbrowser\n"
     ]
    }
   ],
   "source": [
    "pip install webbrowser"
   ]
  },
  {
   "cell_type": "code",
   "execution_count": null,
   "id": "7931a6ba-2c10-4cd2-9986-1e93bfcdac21",
   "metadata": {},
   "outputs": [
    {
     "name": "stdout",
     "output_type": "stream",
     "text": [
      "Listening... Speak your search query\n",
      "Recognizing...\n"
     ]
    }
   ],
   "source": [
    "import speech_recognition as sr\n",
    "import webbrowser\n",
    "import pyttsx3\n",
    "\n",
    "# Initialize the recognizer and text-to-speech engine\n",
    "recognizer = sr.Recognizer()\n",
    "engine = pyttsx3.init()\n",
    "\n",
    "def speak(text):\n",
    "    engine.say(text)\n",
    "    engine.runAndWait()\n",
    "\n",
    "def listen_command():\n",
    "    with sr.Microphone() as source:\n",
    "        print(\"Listening... Speak your search query\")\n",
    "        speak(\"Listening... Speak your search query\")\n",
    "        recognizer.adjust_for_ambient_noise(source)\n",
    "        audio = recognizer.listen(source)\n",
    "    \n",
    "    try:\n",
    "        print(\"Recognizing...\")\n",
    "        command = recognizer.recognize_google(audio)\n",
    "        print(\"You said:\", command)\n",
    "        return command\n",
    "    except sr.UnknownValueError:\n",
    "        print(\"Sorry, I could not understand the audio.\")\n",
    "        speak(\"Sorry, I could not understand the audio.\")\n",
    "    except sr.RequestError:\n",
    "        print(\"Could not request results from Google Speech Recognition service.\")\n",
    "        speak(\"Could not connect to the service.\")\n",
    "    return None\n",
    "\n",
    "def search_web(query):\n",
    "    if query:\n",
    "        speak(f\"Searching for {query}\")\n",
    "        url = f\"https://www.google.com/search?q={query}\"\n",
    "        webbrowser.open(url)\n",
    "    else:\n",
    "        speak(\"No query provided.\")\n",
    "\n",
    "if __name__ == \"__main__\":\n",
    "    command = listen_command()\n",
    "    search_web(command)\n"
   ]
  },
  {
   "cell_type": "code",
   "execution_count": null,
   "id": "b76bcdb1-7822-43e0-bc3e-71b6b919ed18",
   "metadata": {},
   "outputs": [],
   "source": []
  },
  {
   "cell_type": "code",
   "execution_count": null,
   "id": "94d8bfbd-7cc2-4162-8cba-8cb7dde2a6c4",
   "metadata": {},
   "outputs": [],
   "source": []
  }
 ],
 "metadata": {
  "kernelspec": {
   "display_name": "Python 3 (ipykernel)",
   "language": "python",
   "name": "python3"
  },
  "language_info": {
   "codemirror_mode": {
    "name": "ipython",
    "version": 3
   },
   "file_extension": ".py",
   "mimetype": "text/x-python",
   "name": "python",
   "nbconvert_exporter": "python",
   "pygments_lexer": "ipython3",
   "version": "3.10.10"
  }
 },
 "nbformat": 4,
 "nbformat_minor": 5
}
