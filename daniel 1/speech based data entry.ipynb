{
 "cells": [
  {
   "cell_type": "code",
   "execution_count": 1,
   "id": "e02348ea-1daf-4c49-bfd3-9eae3da2b75c",
   "metadata": {},
   "outputs": [
    {
     "name": "stdout",
     "output_type": "stream",
     "text": [
      "Requirement already satisfied: SpeechRecognition in c:\\users\\admin\\appdata\\local\\programs\\python\\python310\\lib\\site-packages (3.14.2)\n",
      "Requirement already satisfied: pyttsx3 in c:\\users\\admin\\appdata\\local\\programs\\python\\python310\\lib\\site-packages (2.98)\n",
      "Requirement already satisfied: pyaudio in c:\\users\\admin\\appdata\\local\\programs\\python\\python310\\lib\\site-packages (0.2.14)\n",
      "Requirement already satisfied: typing-extensions in c:\\users\\admin\\appdata\\local\\programs\\python\\python310\\lib\\site-packages (from SpeechRecognition) (4.13.2)\n",
      "Requirement already satisfied: comtypes in c:\\users\\admin\\appdata\\local\\programs\\python\\python310\\lib\\site-packages (from pyttsx3) (1.4.10)\n",
      "Requirement already satisfied: pypiwin32 in c:\\users\\admin\\appdata\\local\\programs\\python\\python310\\lib\\site-packages (from pyttsx3) (223)\n",
      "Requirement already satisfied: pywin32 in c:\\users\\admin\\appdata\\local\\programs\\python\\python310\\lib\\site-packages (from pyttsx3) (310)\n",
      "Note: you may need to restart the kernel to use updated packages.\n"
     ]
    }
   ],
   "source": [
    "pip install SpeechRecognition pyttsx3 pyaudio\n"
   ]
  },
  {
   "cell_type": "code",
   "execution_count": null,
   "id": "9a63f0cc-e264-4d9f-9b26-83d3e51d728c",
   "metadata": {},
   "outputs": [
    {
     "name": "stdout",
     "output_type": "stream",
     "text": [
      "Please say your name:\n",
      "Listening...\n"
     ]
    }
   ],
   "source": [
    "import speech_recognition as sr\n",
    "import pyttsx3\n",
    "import csv\n",
    "import os\n",
    "\n",
    "recognizer = sr.Recognizer()\n",
    "engine = pyttsx3.init()\n",
    "\n",
    "def speak(text):\n",
    "    engine.say(text)\n",
    "    engine.runAndWait()\n",
    "\n",
    "def listen():\n",
    "    with sr.Microphone() as source:\n",
    "        recognizer.adjust_for_ambient_noise(source)\n",
    "        print(\"Listening...\")\n",
    "        audio = recognizer.listen(source)\n",
    "\n",
    "    try:\n",
    "        text = recognizer.recognize_google(audio)\n",
    "        print(\"You said:\", text)\n",
    "        return text\n",
    "    except sr.UnknownValueError:\n",
    "        speak(\"Sorry, I could not understand.\")\n",
    "        return None\n",
    "    except sr.RequestError:\n",
    "        speak(\"Service error.\")\n",
    "        return None\n",
    "\n",
    "def get_field(field_name):\n",
    "    while True:\n",
    "        speak(f\"Please say your {field_name}\")\n",
    "        print(f\"Please say your {field_name}:\")\n",
    "        value = listen()\n",
    "        if value:\n",
    "            speak(f\"You said {value}. Is this correct? Say yes or no.\")\n",
    "            confirmation = listen()\n",
    "            if confirmation and \"yes\" in confirmation.lower():\n",
    "                return value\n",
    "            else:\n",
    "                speak(\"Let's try again.\")\n",
    "        else:\n",
    "            speak(\"Please try again.\")\n",
    "\n",
    "def save_data(data, filename=\"data.csv\"):\n",
    "    file_exists = os.path.isfile(filename)\n",
    "    with open(filename, mode='a', newline='') as file:\n",
    "        writer = csv.DictWriter(file, fieldnames=data.keys())\n",
    "        if not file_exists:\n",
    "            writer.writeheader()\n",
    "        writer.writerow(data)\n",
    "\n",
    "if __name__ == \"__main__\":\n",
    "    speak(\"Welcome to the voice-based data entry system.\")\n",
    "\n",
    "    name = get_field(\"name\")\n",
    "    age = get_field(\"age\")\n",
    "    email = get_field(\"email\")\n",
    "\n",
    "    data = {\"Name\": name, \"Age\": age, \"Email\": email}\n",
    "    save_data(data)\n",
    "\n",
    "    speak(\"Your data has been saved. Thank you!\")\n",
    "    print(\"Data saved:\", data)\n"
   ]
  },
  {
   "cell_type": "code",
   "execution_count": null,
   "id": "829c001d-2987-4e93-8dcc-24aba1127ee1",
   "metadata": {},
   "outputs": [],
   "source": []
  }
 ],
 "metadata": {
  "kernelspec": {
   "display_name": "Python 3 (ipykernel)",
   "language": "python",
   "name": "python3"
  },
  "language_info": {
   "codemirror_mode": {
    "name": "ipython",
    "version": 3
   },
   "file_extension": ".py",
   "mimetype": "text/x-python",
   "name": "python",
   "nbconvert_exporter": "python",
   "pygments_lexer": "ipython3",
   "version": "3.10.10"
  }
 },
 "nbformat": 4,
 "nbformat_minor": 5
}
